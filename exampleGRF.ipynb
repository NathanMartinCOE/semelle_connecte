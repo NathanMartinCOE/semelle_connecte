{
 "cells": [
  {
   "cell_type": "code",
   "execution_count": 1,
   "metadata": {},
   "outputs": [],
   "source": [
    "import numpy as np\n",
    "import matplotlib.pyplot as plt\n",
    "import pandas as pd"
   ]
  },
  {
   "cell_type": "code",
   "execution_count": 35,
   "metadata": {},
   "outputs": [
    {
     "data": {
      "text/plain": [
       "[<matplotlib.lines.Line2D at 0x207bc8a50d0>]"
      ]
     },
     "execution_count": 35,
     "metadata": {},
     "output_type": "execute_result"
    },
    {
     "data": {
      "image/png": "[encoded data removed]",
      "text/plain": [
       "<Figure size 432x288 with 2 Axes>"
      ]
     },
     "metadata": {
      "needs_background": "light"
     },
     "output_type": "display_data"
    }
   ],
   "source": [
    "x = np.linspace(1,52,52) \n",
    "#y_vertical_d = [0,10,20,40,60,40,30,40,60,40,20,10,0,0,0,0,0,0,0,0,0,0,0,0,0,0,0,5,10,20,30,20,15,20,30,20,10,5,0,0,0,0,0,0,0,0,0,0,0,0,0,0]\n",
    "y_vertical_d = [0,1,2,4,6,4,3,4,6,4,2,1,0,0,0,0,0,0,0,0,0,0,0,0,0,0,0,1,2,4,6,4,3,4,6,4,2,1,0,0,0,0,0,0,0,0,0,0,0,0,0,0]\n",
    "y_antpost_d = [0,-1,-2,-3,-2,-1,0,1,2,3,2,1,0,0,0,0,0,0,0,0,0,0,0,0,0,0,0,-1,-2,-3,-2,-1,0,1,2,3,2,1,0,0,0,0,0,0,0,0,0,0,0,0,0,0]\n",
    "y_vertical_g = [0,0,0,0,0,0,0,0,0,0,0,0,1,2,4,6,4,3,4,6,4,2,1,0,0,0,0,0,0,0,0,0,0,0,0,0,0,0,1,2,4,6,4,3,4,6,4,2,1,0,0,0]\n",
    "y_antpost_g = [0,0,0,0,0,0,0,0,0,0,0,0,-1,-2,-3,-2,-1,0,1,2,3,2,1,0,0,0,0,0,0,0,0,0,0,0,0,0,0,0,-1,-2,-3,-2,-1,0,1,2,3,2,1,0,0,0]\n",
    "\n",
    "plt.subplot(2,1,1)\n",
    "plt.plot(x, y_vertical_d, c='b')\n",
    "plt.plot(x, y_vertical_g, c='r')\n",
    "plt.subplot(2,1,2)\n",
    "plt.plot(x, y_antpost_d, c='b')\n",
    "plt.plot(x, y_antpost_g, c='r')\n"
   ]
  },
  {
   "cell_type": "code",
   "execution_count": 36,
   "metadata": {},
   "outputs": [],
   "source": [
    "from GetGrfValues import GetGrfValues\n",
    "GrfValuesLeft = GetGrfValues(y_vertical_g, y_antpost_g)\n",
    "GrfValuesRight = GetGrfValues(y_vertical_d, y_antpost_d)"
   ]
  },
  {
   "cell_type": "code",
   "execution_count": 37,
   "metadata": {},
   "outputs": [
    {
     "data": {
      "text/html": [
       "<div>\n",
       "<style scoped>\n",
       "    .dataframe tbody tr th:only-of-type {\n",
       "        vertical-align: middle;\n",
       "    }\n",
       "\n",
       "    .dataframe tbody tr th {\n",
       "        vertical-align: top;\n",
       "    }\n",
       "\n",
       "    .dataframe thead th {\n",
       "        text-align: right;\n",
       "    }\n",
       "</style>\n",
       "<table border=\"1\" class=\"dataframe\">\n",
       "  <thead>\n",
       "    <tr style=\"text-align: right;\">\n",
       "      <th></th>\n",
       "      <th>FirtPeak</th>\n",
       "      <th>MidstanceValley</th>\n",
       "      <th>SecondPeak</th>\n",
       "      <th>FirtPeakTimeTo</th>\n",
       "      <th>MidstanceValleyTimeTo</th>\n",
       "      <th>SecondPeakTimeTo</th>\n",
       "      <th>TimeFromMidstanceValleyToToeOff</th>\n",
       "      <th>FirtAndMidstanceImpulse</th>\n",
       "      <th>SecondAndPreswingImpulse</th>\n",
       "      <th>TotalVerticalGrfImpulse</th>\n",
       "      <th>BrakingPeak</th>\n",
       "      <th>PropulsivePeak</th>\n",
       "      <th>BrakePhaseDuration</th>\n",
       "      <th>PropulsivePhaseDuration</th>\n",
       "      <th>BrakePhaseTimeTo</th>\n",
       "      <th>PropulsivePhaseTimeTo</th>\n",
       "      <th>BrakingImpulse</th>\n",
       "      <th>PropulsiveImpulse</th>\n",
       "    </tr>\n",
       "  </thead>\n",
       "  <tbody>\n",
       "    <tr>\n",
       "      <th>0</th>\n",
       "      <td>0.0</td>\n",
       "      <td>0.0</td>\n",
       "      <td>0.0</td>\n",
       "      <td>0.0</td>\n",
       "      <td>0.0</td>\n",
       "      <td>0.0</td>\n",
       "      <td>0.0</td>\n",
       "      <td>0.0</td>\n",
       "      <td>0.0</td>\n",
       "      <td>0.0</td>\n",
       "      <td>0.0</td>\n",
       "      <td>0.0</td>\n",
       "      <td>0.0</td>\n",
       "      <td>0.0</td>\n",
       "      <td>0.0</td>\n",
       "      <td>0.0</td>\n",
       "      <td>0.0</td>\n",
       "      <td>0.0</td>\n",
       "    </tr>\n",
       "    <tr>\n",
       "      <th>1</th>\n",
       "      <td>0.0</td>\n",
       "      <td>0.0</td>\n",
       "      <td>0.0</td>\n",
       "      <td>0.0</td>\n",
       "      <td>0.0</td>\n",
       "      <td>0.0</td>\n",
       "      <td>0.0</td>\n",
       "      <td>0.0</td>\n",
       "      <td>0.0</td>\n",
       "      <td>0.0</td>\n",
       "      <td>0.0</td>\n",
       "      <td>0.0</td>\n",
       "      <td>0.0</td>\n",
       "      <td>0.0</td>\n",
       "      <td>0.0</td>\n",
       "      <td>0.0</td>\n",
       "      <td>0.0</td>\n",
       "      <td>0.0</td>\n",
       "    </tr>\n",
       "  </tbody>\n",
       "</table>\n",
       "</div>"
      ],
      "text/plain": [
       "   FirtPeak  MidstanceValley  SecondPeak  FirtPeakTimeTo  \\\n",
       "0       0.0              0.0         0.0             0.0   \n",
       "1       0.0              0.0         0.0             0.0   \n",
       "\n",
       "   MidstanceValleyTimeTo  SecondPeakTimeTo  TimeFromMidstanceValleyToToeOff  \\\n",
       "0                    0.0               0.0                              0.0   \n",
       "1                    0.0               0.0                              0.0   \n",
       "\n",
       "   FirtAndMidstanceImpulse  SecondAndPreswingImpulse  TotalVerticalGrfImpulse  \\\n",
       "0                      0.0                       0.0                      0.0   \n",
       "1                      0.0                       0.0                      0.0   \n",
       "\n",
       "   BrakingPeak  PropulsivePeak  BrakePhaseDuration  PropulsivePhaseDuration  \\\n",
       "0          0.0             0.0                 0.0                      0.0   \n",
       "1          0.0             0.0                 0.0                      0.0   \n",
       "\n",
       "   BrakePhaseTimeTo  PropulsivePhaseTimeTo  BrakingImpulse  PropulsiveImpulse  \n",
       "0               0.0                    0.0             0.0                0.0  \n",
       "1               0.0                    0.0             0.0                0.0  "
      ]
     },
     "execution_count": 37,
     "metadata": {},
     "output_type": "execute_result"
    }
   ],
   "source": [
    "from DynamicSymetryFunctionProcedure import DynamicSymetryFunctionProcedure\n",
    "DynamicSymetryFunctionProcedure(GrfValuesLeft, GrfValuesRight)"
   ]
  }
 ],
 "metadata": {
  "kernelspec": {
   "display_name": "base",
   "language": "python",
   "name": "python3"
  },
  "language_info": {
   "codemirror_mode": {
    "name": "ipython",
    "version": 3
   },
   "file_extension": ".py",
   "mimetype": "text/x-python",
   "name": "python",
   "nbconvert_exporter": "python",
   "pygments_lexer": "ipython3",
   "version": "3.9.7"
  },
  "orig_nbformat": 4,
  "vscode": {
   "interpreter": {
    "hash": "a4612a4b7fa53cc24da9036e6d31dbb4f4c5422e33136073430e4190579d7d4a"
   }
  }
 },
 "nbformat": 4,
 "nbformat_minor": 2
}
