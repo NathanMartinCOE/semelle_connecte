{
 "cells": [
  {
   "cell_type": "code",
   "execution_count": 1,
   "metadata": {},
   "outputs": [],
   "source": [
    "import pandas as pd\n",
    "import matplotlib.pyplot as plt\n",
    "import numpy as np\n",
    "import os\n",
    "\n",
    "path = \"C:\\\\Users\\\\Nathan\\\\Desktop\\\\Guttenberg Gait Database\\\\\"\n",
    "\n",
    "# Left \n",
    "GRF_F_V_PRO_left = pd.read_csv(os.path.join(path,'GRF_F_V_PRO_left.csv'))\n",
    "GRF_F_AP_PRO_left = pd.read_csv(os.path.join(path,'GRF_F_AP_PRO_left.csv'))\n",
    "GRF_F_ML_PRO_left = pd.read_csv(os.path.join(path,'GRF_F_ML_PRO_left.csv'))\n",
    "\n",
    "# Right lower extremity\n",
    "GRF_F_V_PRO_right = pd.read_csv(os.path.join(path,'GRF_F_V_PRO_right.csv'))\n",
    "GRF_F_AP_PRO_right = pd.read_csv(os.path.join(path,'GRF_F_AP_PRO_right.csv'))\n",
    "GRF_F_ML_PRO_right = pd.read_csv(os.path.join(path,'GRF_F_ML_PRO_right.csv'))"
   ]
  },
  {
   "cell_type": "code",
   "execution_count": 2,
   "metadata": {},
   "outputs": [],
   "source": [
    "def TransformDataFrame(DataFrame):\n",
    "    DataFrame = DataFrame.drop(['DATASET_ID', 'SUBJECT_ID', 'SESSION_ID', 'TRIAL_ID'], axis = 1)\n",
    "    DataFrame = DataFrame.T\n",
    "    return DataFrame\n",
    "\n",
    "def SelectSuject(ID, DataLeft, DataRight):\n",
    "    DataSubjectLeft = DataLeft[DataLeft['SUBJECT_ID'] == ID]\n",
    "    DataSubjectRight = DataRight[DataRight['SUBJECT_ID'] == ID]\n",
    "    DataSubjectLeft = TransformDataFrame(DataSubjectLeft)\n",
    "    DataSubjectRight = TransformDataFrame(DataSubjectRight)\n",
    "    return DataSubjectLeft, DataSubjectRight\n",
    "\n",
    "def MeanData(DataLeft, DataRight):\n",
    "     MeanData = pd.DataFrame()\n",
    "     MeanData[\"Left\"] =  DataLeft.mean(axis = 1)\n",
    "     MeanData[\"Right\"] = DataRight.mean(axis = 1)\n",
    "     return  MeanData[\"Left\"], MeanData[\"Right\"]\n",
    "\n",
    "def TabGrfTotal(DataSubjectLeft, DataSubjectRight, decalage):\n",
    "    GrfRight = [-999]\n",
    "    GrfLeft = [-999]\n",
    "\n",
    "    SwingLeft = [0] * (100 - (2 *decalage))\n",
    "    SwingRight = [0] * (100 - (2 *decalage))\n",
    "    \n",
    "    for col in zip(DataSubjectLeft.columns, DataSubjectRight.columns):\n",
    "        GrfLeft = np.concatenate((GrfLeft, DataSubjectLeft[col[0]], SwingLeft), axis = 0)\n",
    "        GrfRight = np.concatenate((GrfRight, DataSubjectRight[col[1]], SwingRight), axis = 0)\n",
    "\n",
    "    GrfLeft = GrfLeft[1:]\n",
    "    GrfRight = GrfRight[1:]\n",
    "    GrfLeft = GrfLeft[(100 - decalage):]\n",
    "    GrfRight = GrfRight[ : (len(GrfRight)-(100 - decalage))]\n",
    "    GrfLeft[:decalage+10] = 0\n",
    "    GrfRight[-decalage - 102:] = 0\n",
    "    GrfRight[0] = 0\n",
    "    \n",
    "    return GrfLeft, GrfRight\n",
    "\n",
    "def ConcatenanteGrfTotal(DataSubjectLeft, DataSubjectRight):\n",
    "    GrfRight = [-999]\n",
    "    GrfLeft = [-999]\n",
    "    \n",
    "    for col in zip(DataSubjectLeft.columns, DataSubjectRight.columns):\n",
    "        GrfLeft = np.concatenate((GrfLeft, DataSubjectLeft[col[0]]), axis = 0)\n",
    "        GrfRight = np.concatenate((GrfRight, DataSubjectRight[col[1]]), axis = 0)\n",
    "\n",
    "    GrfLeft = GrfLeft[1:]\n",
    "    GrfRight = GrfRight[1:]\n",
    "    \n",
    "    return GrfLeft, GrfRight"
   ]
  },
  {
   "cell_type": "code",
   "execution_count": 17,
   "metadata": {},
   "outputs": [],
   "source": [
    "\"\"\" Choix du patient avec ID puis importation des data depuis la base de donnée de Guttenberg \"\"\"\n",
    "ID = 2\n",
    "decalage_entre_deux_pas = 15\n",
    "\n",
    "VerticalGrfLeft, VerticalGrfRight = SelectSuject(ID, DataLeft = GRF_F_V_PRO_left, DataRight = GRF_F_V_PRO_right)\n",
    "VerticalGrfLeft, VerticalGrfRight = TabGrfTotal(DataSubjectLeft = VerticalGrfLeft, DataSubjectRight = VerticalGrfRight, decalage = decalage_entre_deux_pas)\n",
    "\n",
    "ApGrfLeft, ApGrfRight = SelectSuject(ID, DataLeft = GRF_F_AP_PRO_left, DataRight = GRF_F_AP_PRO_right)\n",
    "ApGrfLeft, ApGrfRight = TabGrfTotal(DataSubjectLeft = ApGrfLeft, DataSubjectRight = ApGrfRight, decalage = decalage_entre_deux_pas)\n",
    "\n",
    "MediolateralGrfLeft, MediolateralGrfRight = SelectSuject(ID, DataLeft = GRF_F_ML_PRO_left, DataRight = GRF_F_ML_PRO_right)\n",
    "MediolateralGrfLeft, MediolateralGrfRight = TabGrfTotal(DataSubjectLeft = MediolateralGrfLeft, DataSubjectRight = MediolateralGrfRight, decalage = decalage_entre_deux_pas)\n",
    "\n",
    "\n",
    "\"\"\" Création et implémentation de l'objet Walking avec des semelles \"\"\"\n",
    "# from semelle_connecte.SOLE.FeetMe import FeetMe\n",
    "# from semelle_connecte.Walking.Walking import Walking\n",
    "from SOLE.FeetMe import FeetMe\n",
    "from Walking.Walking import Walking\n",
    "\n",
    "dataLeft = pd.DataFrame()\n",
    "# VerticalGrfLeft = np.concatenate([VerticalGrfLeft[:-200], [0] * len(VerticalGrfLeft[-200:])])  #### pour créer un pas en moins à gauche\n",
    "dataLeft[\"VerticalVGrf\"] = VerticalGrfLeft\n",
    "dataLeft[\"ApGrf\"] = ApGrfLeft\n",
    "dataLeft[\"MediolateralGrf\"] = MediolateralGrfLeft\n",
    "\n",
    "SoleInstanceLeft = FeetMe(100)\n",
    "SoleInstanceLeft.SetGroundReactionForce(\"Vertical\", dataLeft[\"VerticalVGrf\"].to_numpy())\n",
    "SoleInstanceLeft.SetGroundReactionForce(\"Ap\", dataLeft[\"ApGrf\"].to_numpy())\n",
    "SoleInstanceLeft.SetGroundReactionForce(\"Mediolateral\", dataLeft[\"MediolateralGrf\"].to_numpy())\n",
    "SoleInstanceLeft.constructTimeseries()\n",
    "\n",
    "\n",
    "dataRight = pd.DataFrame()\n",
    "dataRight[\"VerticalVGrf\"] = VerticalGrfRight\n",
    "dataRight[\"ApGrf\"] = ApGrfRight\n",
    "dataRight[\"MediolateralGrf\"] = MediolateralGrfRight\n",
    "\n",
    "SoleInstanceRight = FeetMe(100)\n",
    "SoleInstanceRight.SetGroundReactionForce(\"Vertical\", dataRight[\"VerticalVGrf\"].to_numpy())\n",
    "SoleInstanceRight.SetGroundReactionForce(\"Ap\", dataRight[\"ApGrf\"].to_numpy())\n",
    "SoleInstanceRight.SetGroundReactionForce(\"Mediolateral\", dataRight[\"MediolateralGrf\"].to_numpy())\n",
    "SoleInstanceRight.constructTimeseries()\n",
    "\n",
    "walking = Walking(mass=90)\n",
    "walking.setLeftLegSole(SoleInstanceLeft)\n",
    "walking.setRightLegSole(SoleInstanceRight)"
   ]
  },
  {
   "cell_type": "code",
   "execution_count": 18,
   "metadata": {},
   "outputs": [
    {
     "data": {
      "text/plain": [
       "\" on a maintenant l'asymétrie D-G de tous les paramètres dans le membre walking.m_DataFrameDynamicSymetryScore \""
      ]
     },
     "execution_count": 18,
     "metadata": {},
     "output_type": "execute_result"
    }
   ],
   "source": [
    "from Walking.WalkingFilters import WalkingKinematicsFilter\n",
    "from Walking.WalkingKinematicsProcedure import GroundReactionForceKinematicsProcedure, DynamicSymetryFunctionComputeProcedure\n",
    "\n",
    "procedure = GroundReactionForceKinematicsProcedure()\n",
    "WalkingKinematicsFilter(walking, procedure).run()\n",
    "\"\"\" on a maintenant tous les paramètres des pas droits et gauche dans le membre walking.m_GroundReactionForces \"\"\"\n",
    "\n",
    "procedure = DynamicSymetryFunctionComputeProcedure()\n",
    "WalkingKinematicsFilter(walking, procedure).run()\n",
    "\"\"\" on a maintenant l'asymétrie D-G de tous les paramètres dans le membre walking.m_DataFrameDynamicSymetryScore \"\"\""
   ]
  },
  {
   "cell_type": "code",
   "execution_count": 16,
   "metadata": {},
   "outputs": [],
   "source": [
    "df1 = walking.m_DataFrameDynamicSymetryScore"
   ]
  },
  {
   "cell_type": "code",
   "execution_count": 19,
   "metadata": {},
   "outputs": [],
   "source": [
    "df2 = walking.m_DataFrameDynamicSymetryScore"
   ]
  },
  {
   "cell_type": "code",
   "execution_count": 22,
   "metadata": {},
   "outputs": [],
   "source": [
    "df1.to_csv(\"C:/Users/Nathan/Desktop/Recherche/R_studio/df1.csv\")\n",
    "df2.to_csv(\"C:\\\\Users\\\\Nathan\\\\Desktop\\\\Recherche\\\\R_studio\\\\df2.csv\")"
   ]
  }
 ],
 "metadata": {
  "kernelspec": {
   "display_name": "pycgm3",
   "language": "python",
   "name": "python3"
  },
  "language_info": {
   "codemirror_mode": {
    "name": "ipython",
    "version": 3
   },
   "file_extension": ".py",
   "mimetype": "text/x-python",
   "name": "python",
   "nbconvert_exporter": "python",
   "pygments_lexer": "ipython3",
   "version": "3.7.16"
  },
  "orig_nbformat": 4
 },
 "nbformat": 4,
 "nbformat_minor": 2
}
